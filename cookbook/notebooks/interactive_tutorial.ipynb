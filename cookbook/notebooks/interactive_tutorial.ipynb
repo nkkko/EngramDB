{
 "cells": [
  {
   "cell_type": "markdown",
   "metadata": {},
   "source": [
    "# EngramDB Interactive Tutorial\n",
    "\n",
    "This notebook provides a step-by-step introduction to EngramDB, a specialized database designed for agent memory management."
   ]
  },
  {
   "cell_type": "markdown",
   "metadata": {},
   "source": [
    "## Setup\n",
    "\n",
    "First, let's install the necessary packages if you haven't already."
   ]
  },
  {
   "cell_type": "code",
   "execution_count": null,
   "metadata": {},
   "source": [
    "# Uncomment and run if you need to install EngramDB\n",
    "# !pip install engramdb-py"
   ]
  },
  {
   "cell_type": "markdown",
   "metadata": {},
   "source": [
    "## 1. Basic Database Operations\n",
    "\n",
    "Let's start by importing EngramDB and creating a simple in-memory database."
   ]
  },
  {
   "cell_type": "code",
   "execution_count": null,
   "metadata": {},
   "source": [
    "import engramdb\n",
    "import numpy as np\n",
    "\n",
    "# Create an in-memory database\n",
    "db = engramdb.Database.in_memory()\n",
    "print(\"Database created successfully!\")"
   ]
  },
  {
   "cell_type": "markdown",
   "metadata": {},
   "source": [
    "## 2. Creating Memory Nodes\n",
    "\n",
    "Memory nodes are the fundamental storage unit in EngramDB. Let's create a few memories."
   ]
  },
  {
   "cell_type": "code",
   "execution_count": null,
   "metadata": {},
   "source": [
    "# Create a memory with vector embeddings\n",
    "embeddings = np.array([0.1, 0.2, 0.3, 0.4], dtype=np.float32)\n",
    "memory1 = engramdb.MemoryNode(embeddings)\n",
    "memory1.set_attribute(\"title\", \"First memory\")\n",
    "memory1.set_attribute(\"content\", \"This is the content of my first memory\")\n",
    "memory1.set_attribute(\"importance\", 0.8)\n",
    "\n",
    "# Create another memory\n",
    "embeddings2 = np.array([0.15, 0.25, 0.35, 0.45], dtype=np.float32)\n",
    "memory2 = engramdb.MemoryNode(embeddings2)\n",
    "memory2.set_attribute(\"title\", \"Second memory\")\n",
    "memory2.set_attribute(\"content\", \"This is the content of my second memory\")\n",
    "memory2.set_attribute(\"importance\", 0.6)\n",
    "\n",
    "# Save memories to database\n",
    "memory1_id = db.save(memory1)\n",
    "memory2_id = db.save(memory2)\n",
    "\n",
    "print(f\"Saved memory with ID: {memory1_id}\")\n",
    "print(f\"Saved memory with ID: {memory2_id}\")"
   ]
  },
  {
   "cell_type": "markdown",
   "metadata": {},
   "source": [
    "## 3. Loading Memories\n",
    "\n",
    "We can load memories from the database using their IDs."
   ]
  },
  {
   "cell_type": "code",
   "execution_count": null,
   "metadata": {},
   "source": [
    "# Load a memory by ID\n",
    "loaded_memory = db.load(memory1_id)\n",
    "print(f\"Title: {loaded_memory.get_attribute('title')}\")\n",
    "print(f\"Content: {loaded_memory.get_attribute('content')}\")\n",
    "print(f\"Importance: {loaded_memory.get_attribute('importance')}\")"
   ]
  },
  {
   "cell_type": "markdown",
   "metadata": {},
   "source": [
    "## 4. Vector Similarity Search\n",
    "\n",
    "One of the key features of EngramDB is the ability to search for semantically similar memories using vector embeddings."
   ]
  },
  {
   "cell_type": "code",
   "execution_count": null,
   "metadata": {},
   "source": [
    "# Search for similar memories\n",
    "query_vector = np.array([0.12, 0.22, 0.32, 0.42], dtype=np.float32)\n",
    "results = db.search_similar(query_vector, limit=5, threshold=0.0)\n",
    "\n",
    "# Process results\n",
    "for memory_id, similarity in results:\n",
    "    memory = db.load(memory_id)\n",
    "    print(f\"Memory: {memory.get_attribute('title')}, Similarity: {similarity:.4f}\")"
   ]
  },
  {
   "cell_type": "markdown",
   "metadata": {},
   "source": [
    "## 5. Creating Memory Connections\n",
    "\n",
    "Memories can be connected to each other to form a knowledge graph."
   ]
  },
  {
   "cell_type": "code",
   "execution_count": null,
   "metadata": {},
   "source": [
    "# Connect memories\n",
    "connection_type = \"related_to\"\n",
    "db.connect(memory1_id, memory2_id, connection_type)\n",
    "\n",
    "# Get connections from a memory\n",
    "connections = db.get_connections(memory1_id)\n",
    "print(f\"Connections from {memory1_id}:\")\n",
    "for connection in connections:\n",
    "    print(f\"  → {connection.target_id} ({connection.connection_type})\")"
   ]
  },
  {
   "cell_type": "markdown",
   "metadata": {},
   "source": [
    "## 6. Advanced Querying\n",
    "\n",
    "EngramDB supports advanced querying with vector similarity, attribute filters, and more."
   ]
  },
  {
   "cell_type": "code",
   "execution_count": null,
   "metadata": {},
   "source": [
    "# Create a query builder\n",
    "from engramdb import QueryBuilder\n",
    "\n",
    "query = QueryBuilder()\n",
    "query.filter_attribute(\"importance\", \">=\", 0.7)  # Memories with importance >= 0.7\n",
    "\n",
    "# Execute the query\n",
    "results = db.execute_query(query)\n",
    "print(\"Query results:\")\n",
    "for memory_id in results:\n",
    "    memory = db.load(memory_id)\n",
    "    print(f\"  Memory: {memory.get_attribute('title')}, Importance: {memory.get_attribute('importance')}\")"
   ]
  },
  {
   "cell_type": "markdown",
   "metadata": {},
   "source": [
    "## 7. Combining Vector Search with Filters\n",
    "\n",
    "We can combine vector similarity search with attribute filters."
   ]
  },
  {
   "cell_type": "code",
   "execution_count": null,
   "metadata": {},
   "source": [
    "# Combined query\n",
    "query = QueryBuilder()\n",
    "query.filter_attribute(\"importance\", \">\", 0.5)\n",
    "query.vector_similarity(query_vector, limit=5, threshold=0.0)\n",
    "\n",
    "# Execute the query\n",
    "results = db.execute_query(query)\n",
    "print(\"Combined query results:\")\n",
    "for memory_id, similarity in results:\n",
    "    memory = db.load(memory_id)\n",
    "    print(f\"  Memory: {memory.get_attribute('title')}, Similarity: {similarity:.4f}, Importance: {memory.get_attribute('importance')}\")"
   ]
  },
  {
   "cell_type": "markdown",
   "metadata": {},
   "source": [
    "## 8. Working with Temporal Layers\n",
    "\n",
    "EngramDB supports tracking memory evolution over time through temporal layers."
   ]
  },
  {
   "cell_type": "code",
   "execution_count": null,
   "metadata": {},
   "source": [
    "# Update a memory to create a new temporal layer\n",
    "memory = db.load(memory1_id)\n",
    "memory.set_attribute(\"content\", \"Updated content of my first memory\")\n",
    "db.save(memory)\n",
    "\n",
    "# Get all temporal layers of a memory\n",
    "temporal_layers = db.get_temporal_layers(memory1_id)\n",
    "print(f\"Number of temporal layers: {len(temporal_layers)}\")\n",
    "\n",
    "# Show the content of each layer\n",
    "for i, layer_id in enumerate(temporal_layers):\n",
    "    layer = db.load_temporal_layer(memory1_id, layer_id)\n",
    "    print(f\"Layer {i}: {layer.get_attribute('content')}\")"
   ]
  },
  {
   "cell_type": "markdown",
   "metadata": {},
   "source": [
    "## 9. Persistent Storage\n",
    "\n",
    "Let's create a file-based database for persistent storage."
   ]
  },
  {
   "cell_type": "code",
   "execution_count": null,
   "metadata": {},
   "source": [
    "# Create a file-based database\n",
    "file_db = engramdb.Database.file_based(\"./tutorial_database.engramdb\")\n",
    "\n",
    "# Create and save a memory\n",
    "embeddings = np.array([0.5, 0.6, 0.7, 0.8], dtype=np.float32)\n",
    "memory = engramdb.MemoryNode(embeddings)\n",
    "memory.set_attribute(\"title\", \"Persistent memory\")\n",
    "memory.set_attribute(\"content\", \"This memory will be saved to disk\")\n",
    "\n",
    "memory_id = file_db.save(memory)\n",
    "print(f\"Saved persistent memory with ID: {memory_id}\")\n",
    "\n",
    "# The database will automatically persist changes to disk"
   ]
  },
  {
   "cell_type": "markdown",
   "metadata": {},
   "source": [
    "## 10. Conclusion\n",
    "\n",
    "This tutorial introduced the basic features of EngramDB. There's much more you can do with EngramDB, including:\n",
    "\n",
    "- Working with more complex memory graphs\n",
    "- Using different embedding models\n",
    "- Implementing advanced agent memory systems\n",
    "- Optimizing performance for different use cases\n",
    "\n",
    "Check out the other examples and notebooks in the cookbook for more advanced topics!"
   ]
  }
 ],
 "metadata": {
  "language_info": {
   "name": "python"
  }
 },
 "nbformat": 4,
 "nbformat_minor": 4
}